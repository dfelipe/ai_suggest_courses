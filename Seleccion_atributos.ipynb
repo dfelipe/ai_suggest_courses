{
 "cells": [
  {
   "cell_type": "code",
   "execution_count": 443,
   "id": "4a1ea7a1-632f-492f-a650-7037daac83fc",
   "metadata": {
    "tags": []
   },
   "outputs": [],
   "source": [
    "# Se importan las librerías a utilizar en todo el proyecto\n",
    "\n",
    "import numpy as np\n",
    "import pandas as pd\n",
    "from sklearn.model_selection import train_test_split\n",
    "import os\n",
    "import matplotlib.pyplot as plt\n",
    "from sklearn.feature_selection import SelectPercentile, mutual_info_classif, chi2, f_classif\n",
    "\n",
    "from termcolor import colored\n",
    "from joblib import dump # Permite guardar el estandarizador \n",
    "\n",
    "# Se requiere la instalación en el equipo del la librería \"imblearn\". (pip install imbalanced-learn)\n",
    "\n",
    "from imblearn.over_sampling import RandomOverSampler\n",
    "from imblearn.under_sampling import RandomUnderSampler\n",
    "from collections import Counter"
   ]
  },
  {
   "cell_type": "markdown",
   "id": "e98418a9-ea67-4c5e-993f-ea70fa2954db",
   "metadata": {},
   "source": [
    "## 1. Selección de datos"
   ]
  },
  {
   "cell_type": "code",
   "execution_count": 431,
   "id": "eda4896e-d923-4b9c-8335-18e2315cc7e1",
   "metadata": {
    "tags": []
   },
   "outputs": [
    {
     "name": "stdout",
     "output_type": "stream",
     "text": [
      "<class 'pandas.core.frame.DataFrame'>\n",
      "RangeIndex: 27912 entries, 0 to 27911\n",
      "Data columns (total 10 columns):\n",
      " #   Column             Non-Null Count  Dtype\n",
      "---  ------             --------------  -----\n",
      " 0   code_module        27912 non-null  int64\n",
      " 1   code_presentation  27912 non-null  int64\n",
      " 2   id_student         27912 non-null  int64\n",
      " 3   gender             27912 non-null  int64\n",
      " 4   region             27912 non-null  int64\n",
      " 5   highest_education  27912 non-null  int64\n",
      " 6   age_band           27912 non-null  int64\n",
      " 7   studied_credits    27912 non-null  int64\n",
      " 8   disability         27912 non-null  int64\n",
      " 9   final_result       27912 non-null  int64\n",
      "dtypes: int64(10)\n",
      "memory usage: 2.1 MB\n"
     ]
    }
   ],
   "source": [
    "# Se carga el Dataframe preparado en la etapa de Análisis con información del estudiante\n",
    "\n",
    "students = pd.read_csv('res/df_students.csv', sep=';')\n",
    "del students['Unnamed: 0']\n",
    "del students['num_of_prev_attempts']\n",
    "students.info()"
   ]
  },
  {
   "cell_type": "code",
   "execution_count": 432,
   "id": "a2ccfb37-a97e-4b9c-b4ac-1d55e3a35e15",
   "metadata": {
    "tags": []
   },
   "outputs": [
    {
     "name": "stdout",
     "output_type": "stream",
     "text": [
      "<class 'pandas.core.frame.DataFrame'>\n",
      "RangeIndex: 9340634 entries, 0 to 9340633\n",
      "Data columns (total 6 columns):\n",
      " #   Column             Dtype\n",
      "---  ------             -----\n",
      " 0   code_module        int64\n",
      " 1   code_presentation  int64\n",
      " 2   id_student         int64\n",
      " 3   id_site            int64\n",
      " 4   date               int64\n",
      " 5   sum_click          int64\n",
      "dtypes: int64(6)\n",
      "memory usage: 427.6 MB\n"
     ]
    }
   ],
   "source": [
    "# Se carga el Dataframe preparado en la etapa de Análisis con información del estudiante\n",
    "\n",
    "studentsVle = pd.read_csv('res/df_studentsVle.csv', sep=';')\n",
    "del studentsVle['Unnamed: 0']\n",
    "studentsVle.info()"
   ]
  },
  {
   "cell_type": "code",
   "execution_count": 433,
   "id": "aeafea98-cd12-41bf-9ac9-30d2709f54e0",
   "metadata": {
    "tags": []
   },
   "outputs": [
    {
     "data": {
      "text/html": [
       "<div>\n",
       "<style scoped>\n",
       "    .dataframe tbody tr th:only-of-type {\n",
       "        vertical-align: middle;\n",
       "    }\n",
       "\n",
       "    .dataframe tbody tr th {\n",
       "        vertical-align: top;\n",
       "    }\n",
       "\n",
       "    .dataframe thead th {\n",
       "        text-align: right;\n",
       "    }\n",
       "</style>\n",
       "<table border=\"1\" class=\"dataframe\">\n",
       "  <thead>\n",
       "    <tr style=\"text-align: right;\">\n",
       "      <th></th>\n",
       "      <th>id_student</th>\n",
       "      <th>sum_click</th>\n",
       "    </tr>\n",
       "  </thead>\n",
       "  <tbody>\n",
       "    <tr>\n",
       "      <th>0</th>\n",
       "      <td>6516</td>\n",
       "      <td>548</td>\n",
       "    </tr>\n",
       "    <tr>\n",
       "      <th>1</th>\n",
       "      <td>8462</td>\n",
       "      <td>289</td>\n",
       "    </tr>\n",
       "    <tr>\n",
       "      <th>2</th>\n",
       "      <td>11391</td>\n",
       "      <td>155</td>\n",
       "    </tr>\n",
       "    <tr>\n",
       "      <th>3</th>\n",
       "      <td>23629</td>\n",
       "      <td>54</td>\n",
       "    </tr>\n",
       "    <tr>\n",
       "      <th>4</th>\n",
       "      <td>23698</td>\n",
       "      <td>290</td>\n",
       "    </tr>\n",
       "    <tr>\n",
       "      <th>...</th>\n",
       "      <td>...</td>\n",
       "      <td>...</td>\n",
       "    </tr>\n",
       "    <tr>\n",
       "      <th>26068</th>\n",
       "      <td>2698251</td>\n",
       "      <td>474</td>\n",
       "    </tr>\n",
       "    <tr>\n",
       "      <th>26069</th>\n",
       "      <td>2698257</td>\n",
       "      <td>247</td>\n",
       "    </tr>\n",
       "    <tr>\n",
       "      <th>26070</th>\n",
       "      <td>2698535</td>\n",
       "      <td>717</td>\n",
       "    </tr>\n",
       "    <tr>\n",
       "      <th>26071</th>\n",
       "      <td>2698577</td>\n",
       "      <td>214</td>\n",
       "    </tr>\n",
       "    <tr>\n",
       "      <th>26072</th>\n",
       "      <td>2698588</td>\n",
       "      <td>209</td>\n",
       "    </tr>\n",
       "  </tbody>\n",
       "</table>\n",
       "<p>26073 rows × 2 columns</p>\n",
       "</div>"
      ],
      "text/plain": [
       "       id_student  sum_click\n",
       "0            6516        548\n",
       "1            8462        289\n",
       "2           11391        155\n",
       "3           23629         54\n",
       "4           23698        290\n",
       "...           ...        ...\n",
       "26068     2698251        474\n",
       "26069     2698257        247\n",
       "26070     2698535        717\n",
       "26071     2698577        214\n",
       "26072     2698588        209\n",
       "\n",
       "[26073 rows x 2 columns]"
      ]
     },
     "metadata": {},
     "output_type": "display_data"
    }
   ],
   "source": [
    "# Se contabiliza la actividad de cada estudiante por módulo por medio de la suma de clicks en cada actividad\n",
    "\n",
    "columns_sel=['id_student', 'sum_click']\n",
    "students_sum=studentsVle[columns_sel]\n",
    "students_clicks = students_sum.groupby(['id_student']).count().reset_index()\n",
    "display(students_clicks)"
   ]
  },
  {
   "cell_type": "code",
   "execution_count": 434,
   "id": "bd1b5046-6286-4d17-9f81-d5d90feefc19",
   "metadata": {
    "tags": []
   },
   "outputs": [
    {
     "data": {
      "text/html": [
       "<div>\n",
       "<style scoped>\n",
       "    .dataframe tbody tr th:only-of-type {\n",
       "        vertical-align: middle;\n",
       "    }\n",
       "\n",
       "    .dataframe tbody tr th {\n",
       "        vertical-align: top;\n",
       "    }\n",
       "\n",
       "    .dataframe thead th {\n",
       "        text-align: right;\n",
       "    }\n",
       "</style>\n",
       "<table border=\"1\" class=\"dataframe\">\n",
       "  <thead>\n",
       "    <tr style=\"text-align: right;\">\n",
       "      <th></th>\n",
       "      <th>id_student</th>\n",
       "      <th>sum_click</th>\n",
       "      <th>code_module</th>\n",
       "      <th>code_presentation</th>\n",
       "      <th>gender</th>\n",
       "      <th>region</th>\n",
       "      <th>highest_education</th>\n",
       "      <th>age_band</th>\n",
       "      <th>studied_credits</th>\n",
       "      <th>disability</th>\n",
       "      <th>final_result</th>\n",
       "    </tr>\n",
       "  </thead>\n",
       "  <tbody>\n",
       "    <tr>\n",
       "      <th>0</th>\n",
       "      <td>6516</td>\n",
       "      <td>548</td>\n",
       "      <td>1</td>\n",
       "      <td>4</td>\n",
       "      <td>2</td>\n",
       "      <td>2</td>\n",
       "      <td>4</td>\n",
       "      <td>3</td>\n",
       "      <td>60</td>\n",
       "      <td>1</td>\n",
       "      <td>1</td>\n",
       "    </tr>\n",
       "    <tr>\n",
       "      <th>1</th>\n",
       "      <td>8462</td>\n",
       "      <td>289</td>\n",
       "      <td>4</td>\n",
       "      <td>2</td>\n",
       "      <td>2</td>\n",
       "      <td>13</td>\n",
       "      <td>4</td>\n",
       "      <td>3</td>\n",
       "      <td>90</td>\n",
       "      <td>1</td>\n",
       "      <td>0</td>\n",
       "    </tr>\n",
       "    <tr>\n",
       "      <th>2</th>\n",
       "      <td>23698</td>\n",
       "      <td>290</td>\n",
       "      <td>3</td>\n",
       "      <td>4</td>\n",
       "      <td>1</td>\n",
       "      <td>1</td>\n",
       "      <td>3</td>\n",
       "      <td>1</td>\n",
       "      <td>120</td>\n",
       "      <td>1</td>\n",
       "      <td>1</td>\n",
       "    </tr>\n",
       "    <tr>\n",
       "      <th>3</th>\n",
       "      <td>23798</td>\n",
       "      <td>297</td>\n",
       "      <td>2</td>\n",
       "      <td>2</td>\n",
       "      <td>2</td>\n",
       "      <td>6</td>\n",
       "      <td>3</td>\n",
       "      <td>1</td>\n",
       "      <td>60</td>\n",
       "      <td>1</td>\n",
       "      <td>1</td>\n",
       "    </tr>\n",
       "    <tr>\n",
       "      <th>4</th>\n",
       "      <td>24186</td>\n",
       "      <td>81</td>\n",
       "      <td>7</td>\n",
       "      <td>3</td>\n",
       "      <td>1</td>\n",
       "      <td>12</td>\n",
       "      <td>2</td>\n",
       "      <td>1</td>\n",
       "      <td>30</td>\n",
       "      <td>2</td>\n",
       "      <td>1</td>\n",
       "    </tr>\n",
       "    <tr>\n",
       "      <th>...</th>\n",
       "      <td>...</td>\n",
       "      <td>...</td>\n",
       "      <td>...</td>\n",
       "      <td>...</td>\n",
       "      <td>...</td>\n",
       "      <td>...</td>\n",
       "      <td>...</td>\n",
       "      <td>...</td>\n",
       "      <td>...</td>\n",
       "      <td>...</td>\n",
       "      <td>...</td>\n",
       "    </tr>\n",
       "    <tr>\n",
       "      <th>25477</th>\n",
       "      <td>2698257</td>\n",
       "      <td>247</td>\n",
       "      <td>1</td>\n",
       "      <td>2</td>\n",
       "      <td>2</td>\n",
       "      <td>11</td>\n",
       "      <td>2</td>\n",
       "      <td>1</td>\n",
       "      <td>120</td>\n",
       "      <td>1</td>\n",
       "      <td>1</td>\n",
       "    </tr>\n",
       "    <tr>\n",
       "      <th>25478</th>\n",
       "      <td>2698535</td>\n",
       "      <td>717</td>\n",
       "      <td>3</td>\n",
       "      <td>3</td>\n",
       "      <td>2</td>\n",
       "      <td>6</td>\n",
       "      <td>2</td>\n",
       "      <td>1</td>\n",
       "      <td>60</td>\n",
       "      <td>1</td>\n",
       "      <td>0</td>\n",
       "    </tr>\n",
       "    <tr>\n",
       "      <th>25479</th>\n",
       "      <td>2698535</td>\n",
       "      <td>717</td>\n",
       "      <td>5</td>\n",
       "      <td>2</td>\n",
       "      <td>2</td>\n",
       "      <td>6</td>\n",
       "      <td>2</td>\n",
       "      <td>1</td>\n",
       "      <td>60</td>\n",
       "      <td>1</td>\n",
       "      <td>1</td>\n",
       "    </tr>\n",
       "    <tr>\n",
       "      <th>25480</th>\n",
       "      <td>2698577</td>\n",
       "      <td>214</td>\n",
       "      <td>2</td>\n",
       "      <td>4</td>\n",
       "      <td>1</td>\n",
       "      <td>6</td>\n",
       "      <td>2</td>\n",
       "      <td>2</td>\n",
       "      <td>60</td>\n",
       "      <td>1</td>\n",
       "      <td>0</td>\n",
       "    </tr>\n",
       "    <tr>\n",
       "      <th>25481</th>\n",
       "      <td>2698588</td>\n",
       "      <td>209</td>\n",
       "      <td>2</td>\n",
       "      <td>4</td>\n",
       "      <td>1</td>\n",
       "      <td>12</td>\n",
       "      <td>4</td>\n",
       "      <td>1</td>\n",
       "      <td>120</td>\n",
       "      <td>1</td>\n",
       "      <td>1</td>\n",
       "    </tr>\n",
       "  </tbody>\n",
       "</table>\n",
       "<p>25482 rows × 11 columns</p>\n",
       "</div>"
      ],
      "text/plain": [
       "       id_student  sum_click  code_module  code_presentation  gender  region   \n",
       "0            6516        548            1                  4       2       2  \\\n",
       "1            8462        289            4                  2       2      13   \n",
       "2           23698        290            3                  4       1       1   \n",
       "3           23798        297            2                  2       2       6   \n",
       "4           24186         81            7                  3       1      12   \n",
       "...           ...        ...          ...                ...     ...     ...   \n",
       "25477     2698257        247            1                  2       2      11   \n",
       "25478     2698535        717            3                  3       2       6   \n",
       "25479     2698535        717            5                  2       2       6   \n",
       "25480     2698577        214            2                  4       1       6   \n",
       "25481     2698588        209            2                  4       1      12   \n",
       "\n",
       "       highest_education  age_band  studied_credits  disability  final_result  \n",
       "0                      4         3               60           1             1  \n",
       "1                      4         3               90           1             0  \n",
       "2                      3         1              120           1             1  \n",
       "3                      3         1               60           1             1  \n",
       "4                      2         1               30           2             1  \n",
       "...                  ...       ...              ...         ...           ...  \n",
       "25477                  2         1              120           1             1  \n",
       "25478                  2         1               60           1             0  \n",
       "25479                  2         1               60           1             1  \n",
       "25480                  2         2               60           1             0  \n",
       "25481                  4         1              120           1             1  \n",
       "\n",
       "[25482 rows x 11 columns]"
      ]
     },
     "metadata": {},
     "output_type": "display_data"
    }
   ],
   "source": [
    "students_combined = students_clicks.merge(students, on=['id_student'], how='inner') \n",
    "students_combined = students_combined.drop(students_combined[students_combined['final_result'] == '0'].index)\n",
    "display(students_combined)"
   ]
  },
  {
   "cell_type": "code",
   "execution_count": 435,
   "id": "b111d6a7-9534-4ece-9e68-9bc954249b7f",
   "metadata": {
    "tags": []
   },
   "outputs": [
    {
     "data": {
      "text/plain": [
       "sum_click               final_result\n",
       "code_module                   gender\n",
       "code_presentation             gender\n",
       "gender                   code_module\n",
       "region                   code_module\n",
       "highest_education       final_result\n",
       "age_band                   sum_click\n",
       "studied_credits               gender\n",
       "disability           studied_credits\n",
       "final_result               sum_click\n",
       "dtype: object"
      ]
     },
     "execution_count": 435,
     "metadata": {},
     "output_type": "execute_result"
    }
   ],
   "source": [
    "# tabla similar con las correlaciones más positivas (evitar parejas del mismo valor)\n",
    "positive_corr = students_combined.drop(['id_student'],axis=1).corr(numeric_only=True)\n",
    "np.fill_diagonal(positive_corr.values, 0)\n",
    "positive_corr.idxmax()"
   ]
  },
  {
   "cell_type": "code",
   "execution_count": 436,
   "id": "8ddd92e8-d3c8-48d2-bf9e-3a2c3fb0935b",
   "metadata": {
    "tags": []
   },
   "outputs": [
    {
     "data": {
      "text/html": [
       "<style type=\"text/css\">\n",
       "#T_b63d8_row0_col0, #T_b63d8_row1_col1, #T_b63d8_row2_col2, #T_b63d8_row2_col6, #T_b63d8_row2_col9, #T_b63d8_row3_col3, #T_b63d8_row4_col4, #T_b63d8_row5_col5, #T_b63d8_row6_col2, #T_b63d8_row6_col6, #T_b63d8_row7_col7, #T_b63d8_row8_col8, #T_b63d8_row9_col2, #T_b63d8_row9_col9 {\n",
       "  background-color: #feffbe;\n",
       "  color: #000000;\n",
       "}\n",
       "#T_b63d8_row0_col1, #T_b63d8_row1_col0, #T_b63d8_row5_col6, #T_b63d8_row6_col5 {\n",
       "  background-color: #eff8aa;\n",
       "  color: #000000;\n",
       "}\n",
       "#T_b63d8_row0_col2, #T_b63d8_row0_col4, #T_b63d8_row2_col0, #T_b63d8_row2_col4, #T_b63d8_row4_col0, #T_b63d8_row4_col2 {\n",
       "  background-color: #fffdbc;\n",
       "  color: #000000;\n",
       "}\n",
       "#T_b63d8_row0_col3, #T_b63d8_row3_col0 {\n",
       "  background-color: #e0f295;\n",
       "  color: #000000;\n",
       "}\n",
       "#T_b63d8_row0_col5, #T_b63d8_row5_col0 {\n",
       "  background-color: #e8f59f;\n",
       "  color: #000000;\n",
       "}\n",
       "#T_b63d8_row0_col6, #T_b63d8_row5_col9, #T_b63d8_row6_col0, #T_b63d8_row9_col5 {\n",
       "  background-color: #e5f49b;\n",
       "  color: #000000;\n",
       "}\n",
       "#T_b63d8_row0_col7, #T_b63d8_row2_col5, #T_b63d8_row5_col2, #T_b63d8_row7_col0, #T_b63d8_row7_col8, #T_b63d8_row8_col7 {\n",
       "  background-color: #f8fcb6;\n",
       "  color: #000000;\n",
       "}\n",
       "#T_b63d8_row0_col8, #T_b63d8_row6_col8, #T_b63d8_row8_col0, #T_b63d8_row8_col6 {\n",
       "  background-color: #fffbb8;\n",
       "  color: #000000;\n",
       "}\n",
       "#T_b63d8_row0_col9, #T_b63d8_row9_col0 {\n",
       "  background-color: #a0d669;\n",
       "  color: #000000;\n",
       "}\n",
       "#T_b63d8_row1_col2, #T_b63d8_row2_col1, #T_b63d8_row3_col6, #T_b63d8_row4_col8, #T_b63d8_row6_col3, #T_b63d8_row8_col4 {\n",
       "  background-color: #fffab6;\n",
       "  color: #000000;\n",
       "}\n",
       "#T_b63d8_row1_col3, #T_b63d8_row3_col1 {\n",
       "  background-color: #cbe982;\n",
       "  color: #000000;\n",
       "}\n",
       "#T_b63d8_row1_col4, #T_b63d8_row1_col8, #T_b63d8_row4_col1, #T_b63d8_row8_col1 {\n",
       "  background-color: #fafdb8;\n",
       "  color: #000000;\n",
       "}\n",
       "#T_b63d8_row1_col5, #T_b63d8_row5_col1 {\n",
       "  background-color: #fff0a6;\n",
       "  color: #000000;\n",
       "}\n",
       "#T_b63d8_row1_col6, #T_b63d8_row3_col9, #T_b63d8_row6_col1, #T_b63d8_row9_col3 {\n",
       "  background-color: #fff7b2;\n",
       "  color: #000000;\n",
       "}\n",
       "#T_b63d8_row1_col7, #T_b63d8_row7_col1 {\n",
       "  background-color: #fee695;\n",
       "  color: #000000;\n",
       "}\n",
       "#T_b63d8_row1_col9, #T_b63d8_row4_col7, #T_b63d8_row7_col4, #T_b63d8_row9_col1 {\n",
       "  background-color: #fbfdba;\n",
       "  color: #000000;\n",
       "}\n",
       "#T_b63d8_row2_col3, #T_b63d8_row3_col2, #T_b63d8_row3_col5, #T_b63d8_row5_col3 {\n",
       "  background-color: #f4fab0;\n",
       "  color: #000000;\n",
       "}\n",
       "#T_b63d8_row2_col7, #T_b63d8_row2_col8, #T_b63d8_row4_col6, #T_b63d8_row4_col9, #T_b63d8_row6_col4, #T_b63d8_row7_col2, #T_b63d8_row8_col2, #T_b63d8_row9_col4 {\n",
       "  background-color: #fffebe;\n",
       "  color: #000000;\n",
       "}\n",
       "#T_b63d8_row3_col4, #T_b63d8_row4_col3 {\n",
       "  background-color: #fffcba;\n",
       "  color: #000000;\n",
       "}\n",
       "#T_b63d8_row3_col7, #T_b63d8_row5_col7, #T_b63d8_row7_col3, #T_b63d8_row7_col5 {\n",
       "  background-color: #f7fcb4;\n",
       "  color: #000000;\n",
       "}\n",
       "#T_b63d8_row3_col8, #T_b63d8_row8_col3 {\n",
       "  background-color: #fff8b4;\n",
       "  color: #000000;\n",
       "}\n",
       "#T_b63d8_row4_col5, #T_b63d8_row5_col4 {\n",
       "  background-color: #fff5ae;\n",
       "  color: #000000;\n",
       "}\n",
       "#T_b63d8_row5_col8, #T_b63d8_row8_col5 {\n",
       "  background-color: #fff3ac;\n",
       "  color: #000000;\n",
       "}\n",
       "#T_b63d8_row6_col7, #T_b63d8_row7_col6 {\n",
       "  background-color: #fff1a8;\n",
       "  color: #000000;\n",
       "}\n",
       "#T_b63d8_row6_col9, #T_b63d8_row9_col6 {\n",
       "  background-color: #f1f9ac;\n",
       "  color: #000000;\n",
       "}\n",
       "#T_b63d8_row7_col9, #T_b63d8_row9_col7 {\n",
       "  background-color: #feeda1;\n",
       "  color: #000000;\n",
       "}\n",
       "#T_b63d8_row8_col9, #T_b63d8_row9_col8 {\n",
       "  background-color: #fff6b0;\n",
       "  color: #000000;\n",
       "}\n",
       "</style>\n",
       "<table id=\"T_b63d8\">\n",
       "  <thead>\n",
       "    <tr>\n",
       "      <th class=\"blank level0\" >&nbsp;</th>\n",
       "      <th id=\"T_b63d8_level0_col0\" class=\"col_heading level0 col0\" >sum_click</th>\n",
       "      <th id=\"T_b63d8_level0_col1\" class=\"col_heading level0 col1\" >code_module</th>\n",
       "      <th id=\"T_b63d8_level0_col2\" class=\"col_heading level0 col2\" >code_presentation</th>\n",
       "      <th id=\"T_b63d8_level0_col3\" class=\"col_heading level0 col3\" >gender</th>\n",
       "      <th id=\"T_b63d8_level0_col4\" class=\"col_heading level0 col4\" >region</th>\n",
       "      <th id=\"T_b63d8_level0_col5\" class=\"col_heading level0 col5\" >highest_education</th>\n",
       "      <th id=\"T_b63d8_level0_col6\" class=\"col_heading level0 col6\" >age_band</th>\n",
       "      <th id=\"T_b63d8_level0_col7\" class=\"col_heading level0 col7\" >studied_credits</th>\n",
       "      <th id=\"T_b63d8_level0_col8\" class=\"col_heading level0 col8\" >disability</th>\n",
       "      <th id=\"T_b63d8_level0_col9\" class=\"col_heading level0 col9\" >final_result</th>\n",
       "    </tr>\n",
       "  </thead>\n",
       "  <tbody>\n",
       "    <tr>\n",
       "      <th id=\"T_b63d8_level0_row0\" class=\"row_heading level0 row0\" >sum_click</th>\n",
       "      <td id=\"T_b63d8_row0_col0\" class=\"data row0 col0\" >0.000000</td>\n",
       "      <td id=\"T_b63d8_row0_col1\" class=\"data row0 col1\" >0.081661</td>\n",
       "      <td id=\"T_b63d8_row0_col2\" class=\"data row0 col2\" >-0.011314</td>\n",
       "      <td id=\"T_b63d8_row0_col3\" class=\"data row0 col3\" >0.161340</td>\n",
       "      <td id=\"T_b63d8_row0_col4\" class=\"data row0 col4\" >-0.012924</td>\n",
       "      <td id=\"T_b63d8_row0_col5\" class=\"data row0 col5\" >0.120374</td>\n",
       "      <td id=\"T_b63d8_row0_col6\" class=\"data row0 col6\" >0.133592</td>\n",
       "      <td id=\"T_b63d8_row0_col7\" class=\"data row0 col7\" >0.032857</td>\n",
       "      <td id=\"T_b63d8_row0_col8\" class=\"data row0 col8\" >-0.023718</td>\n",
       "      <td id=\"T_b63d8_row0_col9\" class=\"data row0 col9\" >0.418390</td>\n",
       "    </tr>\n",
       "    <tr>\n",
       "      <th id=\"T_b63d8_level0_row1\" class=\"row_heading level0 row1\" >code_module</th>\n",
       "      <td id=\"T_b63d8_row1_col0\" class=\"data row1 col0\" >0.081661</td>\n",
       "      <td id=\"T_b63d8_row1_col1\" class=\"data row1 col1\" >0.000000</td>\n",
       "      <td id=\"T_b63d8_row1_col2\" class=\"data row1 col2\" >-0.036713</td>\n",
       "      <td id=\"T_b63d8_row1_col3\" class=\"data row1 col3\" >0.251901</td>\n",
       "      <td id=\"T_b63d8_row1_col4\" class=\"data row1 col4\" >0.024939</td>\n",
       "      <td id=\"T_b63d8_row1_col5\" class=\"data row1 col5\" >-0.095371</td>\n",
       "      <td id=\"T_b63d8_row1_col6\" class=\"data row1 col6\" >-0.050721</td>\n",
       "      <td id=\"T_b63d8_row1_col7\" class=\"data row1 col7\" >-0.163474</td>\n",
       "      <td id=\"T_b63d8_row1_col8\" class=\"data row1 col8\" >0.027484</td>\n",
       "      <td id=\"T_b63d8_row1_col9\" class=\"data row1 col9\" >0.022381</td>\n",
       "    </tr>\n",
       "    <tr>\n",
       "      <th id=\"T_b63d8_level0_row2\" class=\"row_heading level0 row2\" >code_presentation</th>\n",
       "      <td id=\"T_b63d8_row2_col0\" class=\"data row2 col0\" >-0.011314</td>\n",
       "      <td id=\"T_b63d8_row2_col1\" class=\"data row2 col1\" >-0.036713</td>\n",
       "      <td id=\"T_b63d8_row2_col2\" class=\"data row2 col2\" >0.000000</td>\n",
       "      <td id=\"T_b63d8_row2_col3\" class=\"data row2 col3\" >0.061235</td>\n",
       "      <td id=\"T_b63d8_row2_col4\" class=\"data row2 col4\" >-0.011615</td>\n",
       "      <td id=\"T_b63d8_row2_col5\" class=\"data row2 col5\" >0.035185</td>\n",
       "      <td id=\"T_b63d8_row2_col6\" class=\"data row2 col6\" >0.004667</td>\n",
       "      <td id=\"T_b63d8_row2_col7\" class=\"data row2 col7\" >-0.004905</td>\n",
       "      <td id=\"T_b63d8_row2_col8\" class=\"data row2 col8\" >-0.005727</td>\n",
       "      <td id=\"T_b63d8_row2_col9\" class=\"data row2 col9\" >0.001942</td>\n",
       "    </tr>\n",
       "    <tr>\n",
       "      <th id=\"T_b63d8_level0_row3\" class=\"row_heading level0 row3\" >gender</th>\n",
       "      <td id=\"T_b63d8_row3_col0\" class=\"data row3 col0\" >0.161340</td>\n",
       "      <td id=\"T_b63d8_row3_col1\" class=\"data row3 col1\" >0.251901</td>\n",
       "      <td id=\"T_b63d8_row3_col2\" class=\"data row3 col2\" >0.061235</td>\n",
       "      <td id=\"T_b63d8_row3_col3\" class=\"data row3 col3\" >0.000000</td>\n",
       "      <td id=\"T_b63d8_row3_col4\" class=\"data row3 col4\" >-0.016717</td>\n",
       "      <td id=\"T_b63d8_row3_col5\" class=\"data row3 col5\" >0.060187</td>\n",
       "      <td id=\"T_b63d8_row3_col6\" class=\"data row3 col6\" >-0.035044</td>\n",
       "      <td id=\"T_b63d8_row3_col7\" class=\"data row3 col7\" >0.045438</td>\n",
       "      <td id=\"T_b63d8_row3_col8\" class=\"data row3 col8\" >-0.042572</td>\n",
       "      <td id=\"T_b63d8_row3_col9\" class=\"data row3 col9\" >-0.051777</td>\n",
       "    </tr>\n",
       "    <tr>\n",
       "      <th id=\"T_b63d8_level0_row4\" class=\"row_heading level0 row4\" >region</th>\n",
       "      <td id=\"T_b63d8_row4_col0\" class=\"data row4 col0\" >-0.012924</td>\n",
       "      <td id=\"T_b63d8_row4_col1\" class=\"data row4 col1\" >0.024939</td>\n",
       "      <td id=\"T_b63d8_row4_col2\" class=\"data row4 col2\" >-0.011615</td>\n",
       "      <td id=\"T_b63d8_row4_col3\" class=\"data row4 col3\" >-0.016717</td>\n",
       "      <td id=\"T_b63d8_row4_col4\" class=\"data row4 col4\" >0.000000</td>\n",
       "      <td id=\"T_b63d8_row4_col5\" class=\"data row4 col5\" >-0.063657</td>\n",
       "      <td id=\"T_b63d8_row4_col6\" class=\"data row4 col6\" >-0.001171</td>\n",
       "      <td id=\"T_b63d8_row4_col7\" class=\"data row4 col7\" >0.019132</td>\n",
       "      <td id=\"T_b63d8_row4_col8\" class=\"data row4 col8\" >-0.034608</td>\n",
       "      <td id=\"T_b63d8_row4_col9\" class=\"data row4 col9\" >-0.005265</td>\n",
       "    </tr>\n",
       "    <tr>\n",
       "      <th id=\"T_b63d8_level0_row5\" class=\"row_heading level0 row5\" >highest_education</th>\n",
       "      <td id=\"T_b63d8_row5_col0\" class=\"data row5 col0\" >0.120374</td>\n",
       "      <td id=\"T_b63d8_row5_col1\" class=\"data row5 col1\" >-0.095371</td>\n",
       "      <td id=\"T_b63d8_row5_col2\" class=\"data row5 col2\" >0.035185</td>\n",
       "      <td id=\"T_b63d8_row5_col3\" class=\"data row5 col3\" >0.060187</td>\n",
       "      <td id=\"T_b63d8_row5_col4\" class=\"data row5 col4\" >-0.063657</td>\n",
       "      <td id=\"T_b63d8_row5_col5\" class=\"data row5 col5\" >0.000000</td>\n",
       "      <td id=\"T_b63d8_row5_col6\" class=\"data row5 col6\" >0.083976</td>\n",
       "      <td id=\"T_b63d8_row5_col7\" class=\"data row5 col7\" >0.042556</td>\n",
       "      <td id=\"T_b63d8_row5_col8\" class=\"data row5 col8\" >-0.076018</td>\n",
       "      <td id=\"T_b63d8_row5_col9\" class=\"data row5 col9\" >0.134619</td>\n",
       "    </tr>\n",
       "    <tr>\n",
       "      <th id=\"T_b63d8_level0_row6\" class=\"row_heading level0 row6\" >age_band</th>\n",
       "      <td id=\"T_b63d8_row6_col0\" class=\"data row6 col0\" >0.133592</td>\n",
       "      <td id=\"T_b63d8_row6_col1\" class=\"data row6 col1\" >-0.050721</td>\n",
       "      <td id=\"T_b63d8_row6_col2\" class=\"data row6 col2\" >0.004667</td>\n",
       "      <td id=\"T_b63d8_row6_col3\" class=\"data row6 col3\" >-0.035044</td>\n",
       "      <td id=\"T_b63d8_row6_col4\" class=\"data row6 col4\" >-0.001171</td>\n",
       "      <td id=\"T_b63d8_row6_col5\" class=\"data row6 col5\" >0.083976</td>\n",
       "      <td id=\"T_b63d8_row6_col6\" class=\"data row6 col6\" >0.000000</td>\n",
       "      <td id=\"T_b63d8_row6_col7\" class=\"data row6 col7\" >-0.087440</td>\n",
       "      <td id=\"T_b63d8_row6_col8\" class=\"data row6 col8\" >-0.027304</td>\n",
       "      <td id=\"T_b63d8_row6_col9\" class=\"data row6 col9\" >0.071878</td>\n",
       "    </tr>\n",
       "    <tr>\n",
       "      <th id=\"T_b63d8_level0_row7\" class=\"row_heading level0 row7\" >studied_credits</th>\n",
       "      <td id=\"T_b63d8_row7_col0\" class=\"data row7 col0\" >0.032857</td>\n",
       "      <td id=\"T_b63d8_row7_col1\" class=\"data row7 col1\" >-0.163474</td>\n",
       "      <td id=\"T_b63d8_row7_col2\" class=\"data row7 col2\" >-0.004905</td>\n",
       "      <td id=\"T_b63d8_row7_col3\" class=\"data row7 col3\" >0.045438</td>\n",
       "      <td id=\"T_b63d8_row7_col4\" class=\"data row7 col4\" >0.019132</td>\n",
       "      <td id=\"T_b63d8_row7_col5\" class=\"data row7 col5\" >0.042556</td>\n",
       "      <td id=\"T_b63d8_row7_col6\" class=\"data row7 col6\" >-0.087440</td>\n",
       "      <td id=\"T_b63d8_row7_col7\" class=\"data row7 col7\" >0.000000</td>\n",
       "      <td id=\"T_b63d8_row7_col8\" class=\"data row7 col8\" >0.034787</td>\n",
       "      <td id=\"T_b63d8_row7_col9\" class=\"data row7 col9\" >-0.109509</td>\n",
       "    </tr>\n",
       "    <tr>\n",
       "      <th id=\"T_b63d8_level0_row8\" class=\"row_heading level0 row8\" >disability</th>\n",
       "      <td id=\"T_b63d8_row8_col0\" class=\"data row8 col0\" >-0.023718</td>\n",
       "      <td id=\"T_b63d8_row8_col1\" class=\"data row8 col1\" >0.027484</td>\n",
       "      <td id=\"T_b63d8_row8_col2\" class=\"data row8 col2\" >-0.005727</td>\n",
       "      <td id=\"T_b63d8_row8_col3\" class=\"data row8 col3\" >-0.042572</td>\n",
       "      <td id=\"T_b63d8_row8_col4\" class=\"data row8 col4\" >-0.034608</td>\n",
       "      <td id=\"T_b63d8_row8_col5\" class=\"data row8 col5\" >-0.076018</td>\n",
       "      <td id=\"T_b63d8_row8_col6\" class=\"data row8 col6\" >-0.027304</td>\n",
       "      <td id=\"T_b63d8_row8_col7\" class=\"data row8 col7\" >0.034787</td>\n",
       "      <td id=\"T_b63d8_row8_col8\" class=\"data row8 col8\" >0.000000</td>\n",
       "      <td id=\"T_b63d8_row8_col9\" class=\"data row8 col9\" >-0.056561</td>\n",
       "    </tr>\n",
       "    <tr>\n",
       "      <th id=\"T_b63d8_level0_row9\" class=\"row_heading level0 row9\" >final_result</th>\n",
       "      <td id=\"T_b63d8_row9_col0\" class=\"data row9 col0\" >0.418390</td>\n",
       "      <td id=\"T_b63d8_row9_col1\" class=\"data row9 col1\" >0.022381</td>\n",
       "      <td id=\"T_b63d8_row9_col2\" class=\"data row9 col2\" >0.001942</td>\n",
       "      <td id=\"T_b63d8_row9_col3\" class=\"data row9 col3\" >-0.051777</td>\n",
       "      <td id=\"T_b63d8_row9_col4\" class=\"data row9 col4\" >-0.005265</td>\n",
       "      <td id=\"T_b63d8_row9_col5\" class=\"data row9 col5\" >0.134619</td>\n",
       "      <td id=\"T_b63d8_row9_col6\" class=\"data row9 col6\" >0.071878</td>\n",
       "      <td id=\"T_b63d8_row9_col7\" class=\"data row9 col7\" >-0.109509</td>\n",
       "      <td id=\"T_b63d8_row9_col8\" class=\"data row9 col8\" >-0.056561</td>\n",
       "      <td id=\"T_b63d8_row9_col9\" class=\"data row9 col9\" >0.000000</td>\n",
       "    </tr>\n",
       "  </tbody>\n",
       "</table>\n"
      ],
      "text/plain": [
       "<pandas.io.formats.style.Styler at 0x28d5ed0d0>"
      ]
     },
     "execution_count": 436,
     "metadata": {},
     "output_type": "execute_result"
    }
   ],
   "source": [
    "positive_corr.style.background_gradient(cmap=plt.get_cmap('RdYlGn'), axis=1, vmin=-1.0, vmax=1.0)"
   ]
  },
  {
   "cell_type": "code",
   "execution_count": 437,
   "id": "4287ec56-0804-469c-9ab8-4aac930524cd",
   "metadata": {
    "tags": []
   },
   "outputs": [
    {
     "name": "stdout",
     "output_type": "stream",
     "text": [
      "<class 'pandas.core.frame.DataFrame'>\n",
      "Index: 13764 entries, 0 to 25481\n",
      "Data columns (total 11 columns):\n",
      " #   Column             Non-Null Count  Dtype\n",
      "---  ------             --------------  -----\n",
      " 0   id_student         13764 non-null  int64\n",
      " 1   sum_click          13764 non-null  int64\n",
      " 2   code_module        13764 non-null  int64\n",
      " 3   code_presentation  13764 non-null  int64\n",
      " 4   gender             13764 non-null  int64\n",
      " 5   region             13764 non-null  int64\n",
      " 6   highest_education  13764 non-null  int64\n",
      " 7   age_band           13764 non-null  int64\n",
      " 8   studied_credits    13764 non-null  int64\n",
      " 9   disability         13764 non-null  int64\n",
      " 10  final_result       13764 non-null  int64\n",
      "dtypes: int64(11)\n",
      "memory usage: 1.3 MB\n"
     ]
    }
   ],
   "source": [
    "# Se filtran los casos en los que el estudiante aprobó el curso\n",
    "\n",
    "students_combined_fil = students_combined[students_combined['final_result']==1]\n",
    "students_combined_fil.info()"
   ]
  },
  {
   "cell_type": "code",
   "execution_count": 438,
   "id": "0fdedb6a-5581-4caa-9939-6295408d8bf9",
   "metadata": {
    "tags": []
   },
   "outputs": [
    {
     "name": "stdout",
     "output_type": "stream",
     "text": [
      "<class 'pandas.core.frame.DataFrame'>\n",
      "Index: 13764 entries, 0 to 25481\n",
      "Data columns (total 7 columns):\n",
      " #   Column             Non-Null Count  Dtype\n",
      "---  ------             --------------  -----\n",
      " 0   sum_click          13764 non-null  int64\n",
      " 1   code_module        13764 non-null  int64\n",
      " 2   gender             13764 non-null  int64\n",
      " 3   region             13764 non-null  int64\n",
      " 4   highest_education  13764 non-null  int64\n",
      " 5   age_band           13764 non-null  int64\n",
      " 6   studied_credits    13764 non-null  int64\n",
      "dtypes: int64(7)\n",
      "memory usage: 860.2 KB\n"
     ]
    }
   ],
   "source": [
    "# Se eliminan las columnas que no serán analizadas según el resultado de correlación y porque tienen el resultado\n",
    "\n",
    "del students_combined_fil['id_student']\n",
    "del students_combined_fil['disability']\n",
    "del students_combined_fil['final_result']\n",
    "\n",
    "\n",
    "# Se guarda un archivo con la información de los semestres para análisis de agrupamiento\n",
    "ruta = os.path.join(\"res\" ,\"students_semester.csv\")\n",
    "students_combined_fil.to_csv(ruta, sep=';')\n",
    "\n",
    "del students_combined_fil['code_presentation']\n",
    "students_combined_fil.info()"
   ]
  },
  {
   "cell_type": "code",
   "execution_count": 409,
   "id": "a3b86bdf-3bff-4769-904f-cb111e897d83",
   "metadata": {
    "tags": []
   },
   "outputs": [],
   "source": [
    "X = students_combined_fil.copy()\n",
    "y = students_combined_fil['code_module']\n",
    "del X['code_module']"
   ]
  },
  {
   "cell_type": "code",
   "execution_count": 410,
   "id": "d25005b0-3860-4a3d-8f7f-ec1e01d0300e",
   "metadata": {
    "tags": []
   },
   "outputs": [
    {
     "name": "stdout",
     "output_type": "stream",
     "text": [
      "   sum_click  gender  region  highest_education  age_band  studied_credits\n",
      "0        548       2       2                  4         3               60\n",
      "[ 0.00692809  0.9289893  -1.1759173   1.63513629  3.41166331 -0.34211526]\n"
     ]
    }
   ],
   "source": [
    "#Estandarización de los datos \n",
    "from sklearn.preprocessing import StandardScaler\n",
    "estandarizador = StandardScaler()\n",
    "estandarizador.fit(X)\n",
    "\n",
    "X_training_std = estandarizador.transform(X)\n",
    "\n",
    "print(X[:1])\n",
    "print(X_training_std[0])"
   ]
  },
  {
   "cell_type": "code",
   "execution_count": 411,
   "id": "eb921c69-1522-4c45-8d88-1c27c0482a84",
   "metadata": {
    "tags": []
   },
   "outputs": [
    {
     "data": {
      "text/plain": [
       "['scaler_courses.joblib']"
      ]
     },
     "execution_count": 411,
     "metadata": {},
     "output_type": "execute_result"
    }
   ],
   "source": [
    "# Guardar el StandardScaler entrenado en un archivo\n",
    "dump(estandarizador, 'scaler_courses.joblib')"
   ]
  },
  {
   "cell_type": "code",
   "execution_count": 412,
   "id": "72b4d20a-5040-4f61-8784-e2ab38a87ad8",
   "metadata": {
    "tags": []
   },
   "outputs": [
    {
     "name": "stdout",
     "output_type": "stream",
     "text": [
      "   sum_click  gender  region  highest_education  age_band  studied_credits\n",
      "0        548       2       2                  4         3               60\n",
      "[ 0.00692809  0.9289893  -1.1759173   1.63513629  3.41166331 -0.34211526]\n"
     ]
    }
   ],
   "source": [
    "\n",
    "print(X[:1])\n",
    "print(X_training_std[0])"
   ]
  },
  {
   "cell_type": "code",
   "execution_count": 413,
   "id": "a6a86b84-39eb-4677-ab9f-eea80489205e",
   "metadata": {
    "tags": []
   },
   "outputs": [
    {
     "data": {
      "text/html": [
       "<style type=\"text/css\">\n",
       "#T_31ba1_row0_col0, #T_31ba1_row1_col1, #T_31ba1_row2_col2, #T_31ba1_row3_col3, #T_31ba1_row4_col4, #T_31ba1_row5_col5, #T_31ba1_row6_col6 {\n",
       "  background-color: #feffbe;\n",
       "  color: #000000;\n",
       "}\n",
       "#T_31ba1_row0_col1, #T_31ba1_row0_col5, #T_31ba1_row1_col0, #T_31ba1_row5_col0 {\n",
       "  background-color: #e8f59f;\n",
       "  color: #000000;\n",
       "}\n",
       "#T_31ba1_row0_col2, #T_31ba1_row1_col2, #T_31ba1_row2_col0, #T_31ba1_row2_col1 {\n",
       "  background-color: #cbe982;\n",
       "  color: #000000;\n",
       "}\n",
       "#T_31ba1_row0_col3, #T_31ba1_row3_col0, #T_31ba1_row3_col5, #T_31ba1_row5_col3 {\n",
       "  background-color: #fffebe;\n",
       "  color: #000000;\n",
       "}\n",
       "#T_31ba1_row0_col4, #T_31ba1_row2_col4, #T_31ba1_row4_col0, #T_31ba1_row4_col2, #T_31ba1_row4_col5, #T_31ba1_row5_col4 {\n",
       "  background-color: #f1f9ac;\n",
       "  color: #000000;\n",
       "}\n",
       "#T_31ba1_row0_col6, #T_31ba1_row6_col0 {\n",
       "  background-color: #ebf7a3;\n",
       "  color: #000000;\n",
       "}\n",
       "#T_31ba1_row1_col3, #T_31ba1_row3_col1, #T_31ba1_row3_col6, #T_31ba1_row6_col3 {\n",
       "  background-color: #fbfdba;\n",
       "  color: #000000;\n",
       "}\n",
       "#T_31ba1_row1_col4, #T_31ba1_row4_col1 {\n",
       "  background-color: #feeda1;\n",
       "  color: #000000;\n",
       "}\n",
       "#T_31ba1_row1_col5, #T_31ba1_row5_col1 {\n",
       "  background-color: #fff5ae;\n",
       "  color: #000000;\n",
       "}\n",
       "#T_31ba1_row1_col6, #T_31ba1_row6_col1 {\n",
       "  background-color: #fee08b;\n",
       "  color: #000000;\n",
       "}\n",
       "#T_31ba1_row2_col3, #T_31ba1_row3_col2 {\n",
       "  background-color: #fffdbc;\n",
       "  color: #000000;\n",
       "}\n",
       "#T_31ba1_row2_col5, #T_31ba1_row5_col2 {\n",
       "  background-color: #fffab6;\n",
       "  color: #000000;\n",
       "}\n",
       "#T_31ba1_row2_col6, #T_31ba1_row6_col2 {\n",
       "  background-color: #f4fab0;\n",
       "  color: #000000;\n",
       "}\n",
       "#T_31ba1_row3_col4, #T_31ba1_row4_col3 {\n",
       "  background-color: #fff3ac;\n",
       "  color: #000000;\n",
       "}\n",
       "#T_31ba1_row4_col6, #T_31ba1_row6_col4 {\n",
       "  background-color: #eff8aa;\n",
       "  color: #000000;\n",
       "}\n",
       "#T_31ba1_row5_col6, #T_31ba1_row6_col5 {\n",
       "  background-color: #fff1a8;\n",
       "  color: #000000;\n",
       "}\n",
       "</style>\n",
       "<table id=\"T_31ba1\">\n",
       "  <thead>\n",
       "    <tr>\n",
       "      <th class=\"blank level0\" >&nbsp;</th>\n",
       "      <th id=\"T_31ba1_level0_col0\" class=\"col_heading level0 col0\" >sum_click</th>\n",
       "      <th id=\"T_31ba1_level0_col1\" class=\"col_heading level0 col1\" >code_module</th>\n",
       "      <th id=\"T_31ba1_level0_col2\" class=\"col_heading level0 col2\" >gender</th>\n",
       "      <th id=\"T_31ba1_level0_col3\" class=\"col_heading level0 col3\" >region</th>\n",
       "      <th id=\"T_31ba1_level0_col4\" class=\"col_heading level0 col4\" >highest_education</th>\n",
       "      <th id=\"T_31ba1_level0_col5\" class=\"col_heading level0 col5\" >age_band</th>\n",
       "      <th id=\"T_31ba1_level0_col6\" class=\"col_heading level0 col6\" >studied_credits</th>\n",
       "    </tr>\n",
       "  </thead>\n",
       "  <tbody>\n",
       "    <tr>\n",
       "      <th id=\"T_31ba1_level0_row0\" class=\"row_heading level0 row0\" >sum_click</th>\n",
       "      <td id=\"T_31ba1_row0_col0\" class=\"data row0 col0\" >0.000000</td>\n",
       "      <td id=\"T_31ba1_row0_col1\" class=\"data row0 col1\" >0.121705</td>\n",
       "      <td id=\"T_31ba1_row0_col2\" class=\"data row0 col2\" >0.252159</td>\n",
       "      <td id=\"T_31ba1_row0_col3\" class=\"data row0 col3\" >-0.007408</td>\n",
       "      <td id=\"T_31ba1_row0_col4\" class=\"data row0 col4\" >0.075344</td>\n",
       "      <td id=\"T_31ba1_row0_col5\" class=\"data row0 col5\" >0.121877</td>\n",
       "      <td id=\"T_31ba1_row0_col6\" class=\"data row0 col6\" >0.105716</td>\n",
       "    </tr>\n",
       "    <tr>\n",
       "      <th id=\"T_31ba1_level0_row1\" class=\"row_heading level0 row1\" >code_module</th>\n",
       "      <td id=\"T_31ba1_row1_col0\" class=\"data row1 col0\" >0.121705</td>\n",
       "      <td id=\"T_31ba1_row1_col1\" class=\"data row1 col1\" >0.000000</td>\n",
       "      <td id=\"T_31ba1_row1_col2\" class=\"data row1 col2\" >0.252934</td>\n",
       "      <td id=\"T_31ba1_row1_col3\" class=\"data row1 col3\" >0.016907</td>\n",
       "      <td id=\"T_31ba1_row1_col4\" class=\"data row1 col4\" >-0.114259</td>\n",
       "      <td id=\"T_31ba1_row1_col5\" class=\"data row1 col5\" >-0.064464</td>\n",
       "      <td id=\"T_31ba1_row1_col6\" class=\"data row1 col6\" >-0.196240</td>\n",
       "    </tr>\n",
       "    <tr>\n",
       "      <th id=\"T_31ba1_level0_row2\" class=\"row_heading level0 row2\" >gender</th>\n",
       "      <td id=\"T_31ba1_row2_col0\" class=\"data row2 col0\" >0.252159</td>\n",
       "      <td id=\"T_31ba1_row2_col1\" class=\"data row2 col1\" >0.252934</td>\n",
       "      <td id=\"T_31ba1_row2_col2\" class=\"data row2 col2\" >0.000000</td>\n",
       "      <td id=\"T_31ba1_row2_col3\" class=\"data row2 col3\" >-0.014191</td>\n",
       "      <td id=\"T_31ba1_row2_col4\" class=\"data row2 col4\" >0.074287</td>\n",
       "      <td id=\"T_31ba1_row2_col5\" class=\"data row2 col5\" >-0.037293</td>\n",
       "      <td id=\"T_31ba1_row2_col6\" class=\"data row2 col6\" >0.059795</td>\n",
       "    </tr>\n",
       "    <tr>\n",
       "      <th id=\"T_31ba1_level0_row3\" class=\"row_heading level0 row3\" >region</th>\n",
       "      <td id=\"T_31ba1_row3_col0\" class=\"data row3 col0\" >-0.007408</td>\n",
       "      <td id=\"T_31ba1_row3_col1\" class=\"data row3 col1\" >0.016907</td>\n",
       "      <td id=\"T_31ba1_row3_col2\" class=\"data row3 col2\" >-0.014191</td>\n",
       "      <td id=\"T_31ba1_row3_col3\" class=\"data row3 col3\" >0.000000</td>\n",
       "      <td id=\"T_31ba1_row3_col4\" class=\"data row3 col4\" >-0.072084</td>\n",
       "      <td id=\"T_31ba1_row3_col5\" class=\"data row3 col5\" >-0.005501</td>\n",
       "      <td id=\"T_31ba1_row3_col6\" class=\"data row3 col6\" >0.016455</td>\n",
       "    </tr>\n",
       "    <tr>\n",
       "      <th id=\"T_31ba1_level0_row4\" class=\"row_heading level0 row4\" >highest_education</th>\n",
       "      <td id=\"T_31ba1_row4_col0\" class=\"data row4 col0\" >0.075344</td>\n",
       "      <td id=\"T_31ba1_row4_col1\" class=\"data row4 col1\" >-0.114259</td>\n",
       "      <td id=\"T_31ba1_row4_col2\" class=\"data row4 col2\" >0.074287</td>\n",
       "      <td id=\"T_31ba1_row4_col3\" class=\"data row4 col3\" >-0.072084</td>\n",
       "      <td id=\"T_31ba1_row4_col4\" class=\"data row4 col4\" >0.000000</td>\n",
       "      <td id=\"T_31ba1_row4_col5\" class=\"data row4 col5\" >0.075883</td>\n",
       "      <td id=\"T_31ba1_row4_col6\" class=\"data row4 col6\" >0.081573</td>\n",
       "    </tr>\n",
       "    <tr>\n",
       "      <th id=\"T_31ba1_level0_row5\" class=\"row_heading level0 row5\" >age_band</th>\n",
       "      <td id=\"T_31ba1_row5_col0\" class=\"data row5 col0\" >0.121877</td>\n",
       "      <td id=\"T_31ba1_row5_col1\" class=\"data row5 col1\" >-0.064464</td>\n",
       "      <td id=\"T_31ba1_row5_col2\" class=\"data row5 col2\" >-0.037293</td>\n",
       "      <td id=\"T_31ba1_row5_col3\" class=\"data row5 col3\" >-0.005501</td>\n",
       "      <td id=\"T_31ba1_row5_col4\" class=\"data row5 col4\" >0.075883</td>\n",
       "      <td id=\"T_31ba1_row5_col5\" class=\"data row5 col5\" >0.000000</td>\n",
       "      <td id=\"T_31ba1_row5_col6\" class=\"data row5 col6\" >-0.088987</td>\n",
       "    </tr>\n",
       "    <tr>\n",
       "      <th id=\"T_31ba1_level0_row6\" class=\"row_heading level0 row6\" >studied_credits</th>\n",
       "      <td id=\"T_31ba1_row6_col0\" class=\"data row6 col0\" >0.105716</td>\n",
       "      <td id=\"T_31ba1_row6_col1\" class=\"data row6 col1\" >-0.196240</td>\n",
       "      <td id=\"T_31ba1_row6_col2\" class=\"data row6 col2\" >0.059795</td>\n",
       "      <td id=\"T_31ba1_row6_col3\" class=\"data row6 col3\" >0.016455</td>\n",
       "      <td id=\"T_31ba1_row6_col4\" class=\"data row6 col4\" >0.081573</td>\n",
       "      <td id=\"T_31ba1_row6_col5\" class=\"data row6 col5\" >-0.088987</td>\n",
       "      <td id=\"T_31ba1_row6_col6\" class=\"data row6 col6\" >0.000000</td>\n",
       "    </tr>\n",
       "  </tbody>\n",
       "</table>\n"
      ],
      "text/plain": [
       "<pandas.io.formats.style.Styler at 0x2a9a515e0>"
      ]
     },
     "execution_count": 413,
     "metadata": {},
     "output_type": "execute_result"
    }
   ],
   "source": [
    "# tabla similar con las correlaciones más positivas (evitar parejas del mismo valor)\n",
    "positive_corr = students_combined_fil.corr(numeric_only=True)\n",
    "np.fill_diagonal(positive_corr.values, 0)\n",
    "positive_corr.idxmax()\n",
    "positive_corr.style.background_gradient(cmap=plt.get_cmap('RdYlGn'), axis=1, vmin=-1.0, vmax=1.0)"
   ]
  },
  {
   "cell_type": "code",
   "execution_count": 444,
   "id": "7eaeedcb-409c-4a56-965d-20dd95a3737a",
   "metadata": {
    "tags": []
   },
   "outputs": [
    {
     "name": "stdout",
     "output_type": "stream",
     "text": [
      "(13764, 7)\n",
      "(13764, 6)\n"
     ]
    },
    {
     "data": {
      "text/html": [
       "<div>\n",
       "<style scoped>\n",
       "    .dataframe tbody tr th:only-of-type {\n",
       "        vertical-align: middle;\n",
       "    }\n",
       "\n",
       "    .dataframe tbody tr th {\n",
       "        vertical-align: top;\n",
       "    }\n",
       "\n",
       "    .dataframe thead th {\n",
       "        text-align: right;\n",
       "    }\n",
       "</style>\n",
       "<table border=\"1\" class=\"dataframe\">\n",
       "  <thead>\n",
       "    <tr style=\"text-align: right;\">\n",
       "      <th></th>\n",
       "      <th>sum_click</th>\n",
       "      <th>code_module</th>\n",
       "      <th>gender</th>\n",
       "      <th>region</th>\n",
       "      <th>highest_education</th>\n",
       "      <th>age_band</th>\n",
       "      <th>studied_credits</th>\n",
       "    </tr>\n",
       "  </thead>\n",
       "  <tbody>\n",
       "    <tr>\n",
       "      <th>0</th>\n",
       "      <td>548</td>\n",
       "      <td>1</td>\n",
       "      <td>2</td>\n",
       "      <td>2</td>\n",
       "      <td>4</td>\n",
       "      <td>3</td>\n",
       "      <td>60</td>\n",
       "    </tr>\n",
       "  </tbody>\n",
       "</table>\n",
       "</div>"
      ],
      "text/plain": [
       "   sum_click  code_module  gender  region  highest_education  age_band   \n",
       "0        548            1       2       2                  4         3  \\\n",
       "\n",
       "   studied_credits  \n",
       "0               60  "
      ]
     },
     "metadata": {},
     "output_type": "display_data"
    },
    {
     "name": "stdout",
     "output_type": "stream",
     "text": [
      "[548   1   2   4   3  60]\n"
     ]
    }
   ],
   "source": [
    "#Selección de atributos con Mutual information. SE ELIMINA LA EDAD (age_band)\n",
    "print(students_combined_fil.shape)\n",
    "\n",
    "selector = SelectPercentile(score_func=mutual_info_classif, percentile=90)\n",
    "X_training_std_sel = selector.fit_transform(students_combined_fil, y)\n",
    "\n",
    "print(X_training_std_sel.shape)\n",
    "display(students_combined_fil.head(1))\n",
    "print(X_training_std_sel[0])"
   ]
  },
  {
   "cell_type": "code",
   "execution_count": 442,
   "id": "ded8d0d6-bb48-4869-953a-3f6087c893c1",
   "metadata": {
    "tags": []
   },
   "outputs": [
    {
     "name": "stdout",
     "output_type": "stream",
     "text": [
      "(13764, 7)\n",
      "(13764, 6)\n"
     ]
    },
    {
     "data": {
      "text/html": [
       "<div>\n",
       "<style scoped>\n",
       "    .dataframe tbody tr th:only-of-type {\n",
       "        vertical-align: middle;\n",
       "    }\n",
       "\n",
       "    .dataframe tbody tr th {\n",
       "        vertical-align: top;\n",
       "    }\n",
       "\n",
       "    .dataframe thead th {\n",
       "        text-align: right;\n",
       "    }\n",
       "</style>\n",
       "<table border=\"1\" class=\"dataframe\">\n",
       "  <thead>\n",
       "    <tr style=\"text-align: right;\">\n",
       "      <th></th>\n",
       "      <th>sum_click</th>\n",
       "      <th>code_module</th>\n",
       "      <th>gender</th>\n",
       "      <th>region</th>\n",
       "      <th>highest_education</th>\n",
       "      <th>age_band</th>\n",
       "      <th>studied_credits</th>\n",
       "    </tr>\n",
       "  </thead>\n",
       "  <tbody>\n",
       "    <tr>\n",
       "      <th>0</th>\n",
       "      <td>548</td>\n",
       "      <td>1</td>\n",
       "      <td>2</td>\n",
       "      <td>2</td>\n",
       "      <td>4</td>\n",
       "      <td>3</td>\n",
       "      <td>60</td>\n",
       "    </tr>\n",
       "  </tbody>\n",
       "</table>\n",
       "</div>"
      ],
      "text/plain": [
       "   sum_click  code_module  gender  region  highest_education  age_band   \n",
       "0        548            1       2       2                  4         3  \\\n",
       "\n",
       "   studied_credits  \n",
       "0               60  "
      ]
     },
     "metadata": {},
     "output_type": "display_data"
    },
    {
     "name": "stdout",
     "output_type": "stream",
     "text": [
      "[548   1   2   2   4  60]\n"
     ]
    }
   ],
   "source": [
    "#Selección de atributos con Chi2. SE ELIMINA LA EDAD (age_band)\n",
    "\n",
    "print(students_combined_fil.shape)\n",
    "\n",
    "selector = SelectPercentile(score_func=chi2, percentile=90)\n",
    "X_training_std_sel = selector.fit_transform(students_combined_fil, y)\n",
    "\n",
    "print(X_training_std_sel.shape)\n",
    "display(students_combined_fil.head(1))\n",
    "print(X_training_std_sel[0])"
   ]
  },
  {
   "cell_type": "code",
   "execution_count": 415,
   "id": "9755d984-fd4f-4735-aa46-2677a775c02e",
   "metadata": {
    "tags": []
   },
   "outputs": [
    {
     "name": "stdout",
     "output_type": "stream",
     "text": [
      "\u001b[32mLa variable 0 es linealmente DEPENDIENTE de la clase. p-value: 0.0\u001b[0m\n",
      "\u001b[32mLa variable 1 es linealmente DEPENDIENTE de la clase. p-value: 0.0\u001b[0m\n",
      "\u001b[32mLa variable 2 es linealmente DEPENDIENTE de la clase. p-value: 4.896812087444331e-07\u001b[0m\n",
      "\u001b[32mLa variable 3 es linealmente DEPENDIENTE de la clase. p-value: 9.590023982596455e-159\u001b[0m\n",
      "\u001b[32mLa variable 4 es linealmente DEPENDIENTE de la clase. p-value: 1.8340321325376883e-65\u001b[0m\n",
      "\u001b[32mLa variable 5 es linealmente DEPENDIENTE de la clase. p-value: 0.0\u001b[0m\n"
     ]
    }
   ],
   "source": [
    "# Evaluación de atributos: F-Test.\n",
    "f_test, p_value = f_classif(X_training_std, y) # Llamamos al estadístico F\n",
    "\n",
    "# Definimos el valor de significancia (alpha)\n",
    "alpha = 0.1\n",
    "\n",
    "# Definimos la decisión de si aceptamos o rechazamos la hipótesis nula (Ho) para cada variable\n",
    "for i in range(len(p_value)):\n",
    "    p_val = p_value[i]\n",
    "    \n",
    "    if p_val<alpha:\n",
    "        h = 1 # Se rechaza la hipótesis nula que defiende la independencia entre variables. Por tanto, DEPENDIENTES.\n",
    "        print(colored('La variable ' + str(i) + ' es linealmente DEPENDIENTE de la clase. p-value: ' + str(p_val), 'green'))\n",
    "    else:\n",
    "        h = 0 # No hay evidencia estadística para rechazar la hipótesis nula, por tanto, se asume INDEPENDENCIA entre variables\n",
    "        print(colored('La variable ' + str(i) + ' es linealmente INDEPENDIENTE de la clase. p-value: ' + str(p_val), 'red'))"
   ]
  },
  {
   "cell_type": "markdown",
   "id": "d84fc354-fd7f-476e-87c2-810416c77bd3",
   "metadata": {},
   "source": [
    "## 2. Balanceo de datos"
   ]
  },
  {
   "cell_type": "code",
   "execution_count": 416,
   "id": "0ec18db0-c799-417f-82a8-1dd09938348d",
   "metadata": {
    "tags": []
   },
   "outputs": [
    {
     "data": {
      "image/png": "[encoded data removed]",
      "text/plain": [
       "<Figure size 640x480 with 1 Axes>"
      ]
     },
     "metadata": {},
     "output_type": "display_data"
    }
   ],
   "source": [
    "# Diagrama de barras para la variable code_module\n",
    "\n",
    "modules, frec = np.unique(students_combined_fil['code_module'], return_counts=True)\n",
    "plt.ylabel('Cantidad de estudiantes')\n",
    "plt.xlabel('Módulos')\n",
    "#plt.title('Estudiantes por módulo')\n",
    "plt.bar(modules, frec, color='skyblue') \n",
    "plt.show()"
   ]
  },
  {
   "cell_type": "code",
   "execution_count": 417,
   "id": "557adb83-585a-496b-8c64-f07939f35d32",
   "metadata": {
    "tags": []
   },
   "outputs": [
    {
     "data": {
      "image/png": "[encoded data removed]",
      "text/plain": [
       "<Figure size 640x480 with 1 Axes>"
      ]
     },
     "metadata": {},
     "output_type": "display_data"
    }
   ],
   "source": [
    "# Diagrama de barras para la variable gender\n",
    "\n",
    "gen, frec = np.unique(students_combined_fil['gender'], return_counts=True)\n",
    "plt.ylabel('Cantidad de estudiantes')\n",
    "plt.xlabel('Género')\n",
    "plt.title('Estudiantes por género')\n",
    "plt.bar(gen, frec) \n",
    "plt.show()\n"
   ]
  },
  {
   "cell_type": "code",
   "execution_count": 418,
   "id": "82603b7d-530d-4a07-81ef-7205f05b1afd",
   "metadata": {
    "tags": []
   },
   "outputs": [
    {
     "data": {
      "image/png": "[encoded data removed]",
      "text/plain": [
       "<Figure size 640x480 with 1 Axes>"
      ]
     },
     "metadata": {},
     "output_type": "display_data"
    }
   ],
   "source": [
    "# Diagrama de barras para la variable region\n",
    "\n",
    "reg, frec = np.unique(students_combined_fil['region'], return_counts=True)\n",
    "plt.ylabel('Cantidad de estudiantes')\n",
    "plt.xlabel('Región')\n",
    "plt.title('Estudiantes por región')\n",
    "plt.bar(reg, frec) \n",
    "plt.show()"
   ]
  },
  {
   "cell_type": "code",
   "execution_count": 419,
   "id": "495b0d36-d3e2-40a3-bb0f-b0ea2674c39e",
   "metadata": {
    "tags": []
   },
   "outputs": [
    {
     "data": {
      "image/png": "[encoded data removed]",
      "text/plain": [
       "<Figure size 640x480 with 1 Axes>"
      ]
     },
     "metadata": {},
     "output_type": "display_data"
    }
   ],
   "source": [
    "# Diagrama de barras para la variable highest_education\n",
    "\n",
    "educ, frec = np.unique(students_combined_fil['highest_education'], return_counts=True)\n",
    "plt.ylabel('Cantidad de estudiantes')\n",
    "plt.xlabel('Nivel educativo')\n",
    "plt.title('Estudiantes por nivel educativo')\n",
    "plt.bar(educ, frec) \n",
    "plt.show()"
   ]
  },
  {
   "cell_type": "code",
   "execution_count": 420,
   "id": "85756119-69f5-411b-8d69-99090498b19a",
   "metadata": {
    "tags": []
   },
   "outputs": [
    {
     "data": {
      "image/png": "[encoded data removed]",
      "text/plain": [
       "<Figure size 640x480 with 1 Axes>"
      ]
     },
     "metadata": {},
     "output_type": "display_data"
    }
   ],
   "source": [
    "# Diagrama de barras para la variable studied_credits\n",
    "\n",
    "cred, frec = np.unique(students_combined_fil['studied_credits'], return_counts=True)\n",
    "plt.ylabel('Cantidad de estudiantes')\n",
    "plt.xlabel('Créditos estudiados')\n",
    "plt.title('Estudiantes por créditos estudiados')\n",
    "plt.bar(cred, frec) \n",
    "plt.show()\n"
   ]
  },
  {
   "cell_type": "code",
   "execution_count": 421,
   "id": "39cc9e98-6964-4231-b9b5-396ffc373da4",
   "metadata": {
    "tags": []
   },
   "outputs": [
    {
     "name": "stdout",
     "output_type": "stream",
     "text": [
      "\n",
      "Distribución de clases después del balanceo:\n",
      "code_module\n",
      "1    3294\n",
      "2    3294\n",
      "3    3294\n",
      "4    3294\n",
      "5    3294\n",
      "6    3294\n",
      "7    3294\n",
      "Name: count, dtype: int64\n"
     ]
    }
   ],
   "source": [
    "\n",
    "# Aplicar RandomOverSampler para sobremuestrear la clase minoritaria\n",
    "ros = RandomOverSampler(random_state=42)\n",
    "#X_resampled, y_resampled = ros.fit_resample(X, y)(X_training_std, y)\n",
    "X_resampled, y_resampled = ros.fit_resample(X_training_std_sel, y)\n",
    "\n",
    "# Aplicar RandomUnderSampler para submuestrear la clase mayoritaria\n",
    "rus = RandomUnderSampler(sampling_strategy='not majority',random_state=42)\n",
    "X_resampled, y_resampled = rus.fit_resample(X_resampled, y_resampled)\n",
    "\n",
    "# Mostrar la distribución de clases después del balanceo\n",
    "print(\"\\nDistribución de clases después del balanceo:\")\n",
    "print(pd.Series(y_resampled).value_counts())"
   ]
  },
  {
   "cell_type": "code",
   "execution_count": 422,
   "id": "7e7c5f01-5887-4712-a97c-eabbbdf227bc",
   "metadata": {
    "tags": []
   },
   "outputs": [
    {
     "name": "stdout",
     "output_type": "stream",
     "text": [
      "(13764, 5)\n",
      "(23058, 5)\n",
      "<class 'numpy.ndarray'>\n"
     ]
    }
   ],
   "source": [
    "# Al realizar el balanceo se generaron muchas más muestras, pasando de 13764 a 23058\n",
    "\n",
    "print(X_training_std_sel.shape)\n",
    "print(X_resampled.shape)\n",
    "print(type(X_resampled))"
   ]
  },
  {
   "cell_type": "code",
   "execution_count": 426,
   "id": "12fdabe2-0045-45a8-81e2-55e508ea5d19",
   "metadata": {
    "tags": []
   },
   "outputs": [
    {
     "data": {
      "image/png": "[encoded data removed]",
      "text/plain": [
       "<Figure size 640x480 with 1 Axes>"
      ]
     },
     "metadata": {},
     "output_type": "display_data"
    }
   ],
   "source": [
    "# Diagrama de barras para la variable code_module   \n",
    "nom_columns = ['sum_click', 'gender', 'region', 'highest_education','studied_credits'] \n",
    "students_balanced = pd.DataFrame(X_resampled, columns=nom_columns)\n",
    "students_balanced['code_module'] = y_resampled\n",
    "#del students_balanced['age_band']\n",
    "\n",
    "educ, frec = np.unique(students_balanced['highest_education'], return_counts=True)\n",
    "plt.ylabel('Cantidad de estudiantes')\n",
    "plt.xlabel('Nivel educativo')\n",
    "plt.title('Estudiantes por nivel educativo')\n",
    "plt.bar(educ, frec) \n",
    "plt.show()"
   ]
  },
  {
   "cell_type": "code",
   "execution_count": 427,
   "id": "9e103720-7c2d-45c2-90de-b60034b736ae",
   "metadata": {
    "tags": []
   },
   "outputs": [
    {
     "data": {
      "image/png": "[encoded data removed]",
      "text/plain": [
       "<Figure size 640x480 with 1 Axes>"
      ]
     },
     "metadata": {},
     "output_type": "display_data"
    }
   ],
   "source": [
    "modules, frec = np.unique(students_balanced['code_module'], return_counts=True)\n",
    "plt.ylabel('Cantidad de estudiantes')\n",
    "plt.xlabel('Módulo')\n",
    "#plt.title('Estudiantes por módulo')\n",
    "plt.bar(modules, frec, color='skyblue') \n",
    "plt.show()"
   ]
  },
  {
   "cell_type": "code",
   "execution_count": 428,
   "id": "1682cfda-abc4-45f0-bde6-b697a5b9790e",
   "metadata": {
    "tags": []
   },
   "outputs": [
    {
     "name": "stdout",
     "output_type": "stream",
     "text": [
      "(23058, 6)\n"
     ]
    }
   ],
   "source": [
    "print(students_balanced.shape)"
   ]
  },
  {
   "cell_type": "code",
   "execution_count": 430,
   "id": "c905d100-233f-4f4e-a71e-6d104de4cbce",
   "metadata": {
    "tags": []
   },
   "outputs": [],
   "source": [
    "ruta = os.path.join(\"res\" ,\"students_balanced.csv\")\n",
    "\n",
    "students_balanced.to_csv(ruta, sep=';')"
   ]
  }
 ],
 "metadata": {
  "kernelspec": {
   "display_name": "Python 3 (ipykernel)",
   "language": "python",
   "name": "python3"
  },
  "language_info": {
   "codemirror_mode": {
    "name": "ipython",
    "version": 3
   },
   "file_extension": ".py",
   "mimetype": "text/x-python",
   "name": "python",
   "nbconvert_exporter": "python",
   "pygments_lexer": "ipython3",
   "version": "3.9.6"
  }
 },
 "nbformat": 4,
 "nbformat_minor": 5
}
