{
 "cells": [
  {
   "cell_type": "code",
   "execution_count": 10,
   "id": "fc68d276-05fb-4b12-ae59-619d337f3638",
   "metadata": {
    "tags": []
   },
   "outputs": [],
   "source": [
    "# Se importan las librerías a utilizar en todo el proyecto\n",
    "\n",
    "import numpy as np\n",
    "import pandas as pd\n",
    "from sklearn.model_selection import train_test_split\n",
    "from sklearn.metrics import accuracy_score, classification_report"
   ]
  },
  {
   "cell_type": "code",
   "execution_count": 129,
   "id": "d82ec227-e0e2-4a45-9ed5-325ba9f7766f",
   "metadata": {
    "tags": []
   },
   "outputs": [
    {
     "name": "stdout",
     "output_type": "stream",
     "text": [
      "<class 'pandas.core.frame.DataFrame'>\n",
      "RangeIndex: 23058 entries, 0 to 23057\n",
      "Data columns (total 6 columns):\n",
      " #   Column             Non-Null Count  Dtype  \n",
      "---  ------             --------------  -----  \n",
      " 0   sum_click          23058 non-null  float64\n",
      " 1   gender             23058 non-null  float64\n",
      " 2   region             23058 non-null  float64\n",
      " 3   highest_education  23058 non-null  float64\n",
      " 4   studied_credits    23058 non-null  float64\n",
      " 5   code_module        23058 non-null  int64  \n",
      "dtypes: float64(5), int64(1)\n",
      "memory usage: 1.1 MB\n"
     ]
    }
   ],
   "source": [
    "# Se carga el Dataframe preparado en la etapa de Análisis con información del estudiante\n",
    "\n",
    "#students = pd.read_csv('res/students_semester.csv', sep=';')\n",
    "students = pd.read_csv('res/students_balanced.csv', sep=';')\n",
    "del students['Unnamed: 0']\n",
    "\n",
    "students.info()"
   ]
  },
  {
   "cell_type": "code",
   "execution_count": 133,
   "id": "8b444ded-3efa-4dfa-a110-e808a4a500bd",
   "metadata": {
    "tags": []
   },
   "outputs": [],
   "source": [
    "# Prueba con 1 semestre\n",
    "\n",
    "#x_students_2013B=students[students['code_presentation']==1]\n",
    "x_students_2013B=students.copy()"
   ]
  },
  {
   "cell_type": "code",
   "execution_count": 135,
   "id": "d39ad726-1f3c-4b9c-8d2c-fa0e01cb5b07",
   "metadata": {
    "tags": []
   },
   "outputs": [
    {
     "name": "stdout",
     "output_type": "stream",
     "text": [
      "Training:  clases: [1 2 3 4 5 6 7]  ocurrencias:  [2661 2598 2651 2655 2655 2606 2620]\n",
      "Test:  clases: [1 2 3 4 5 6 7]  ocurrencias:  [633 696 643 639 639 688 674]\n"
     ]
    },
    {
     "data": {
      "text/html": [
       "<div>\n",
       "<style scoped>\n",
       "    .dataframe tbody tr th:only-of-type {\n",
       "        vertical-align: middle;\n",
       "    }\n",
       "\n",
       "    .dataframe tbody tr th {\n",
       "        vertical-align: top;\n",
       "    }\n",
       "\n",
       "    .dataframe thead th {\n",
       "        text-align: right;\n",
       "    }\n",
       "</style>\n",
       "<table border=\"1\" class=\"dataframe\">\n",
       "  <thead>\n",
       "    <tr style=\"text-align: right;\">\n",
       "      <th></th>\n",
       "      <th>gender</th>\n",
       "      <th>region</th>\n",
       "      <th>highest_education</th>\n",
       "      <th>studied_credits</th>\n",
       "    </tr>\n",
       "  </thead>\n",
       "  <tbody>\n",
       "    <tr>\n",
       "      <th>2935</th>\n",
       "      <td>0.928989</td>\n",
       "      <td>1.113127</td>\n",
       "      <td>0.236378</td>\n",
       "      <td>1.549062</td>\n",
       "    </tr>\n",
       "    <tr>\n",
       "      <th>7719</th>\n",
       "      <td>0.928989</td>\n",
       "      <td>1.621804</td>\n",
       "      <td>0.236378</td>\n",
       "      <td>-0.342115</td>\n",
       "    </tr>\n",
       "    <tr>\n",
       "      <th>5405</th>\n",
       "      <td>-1.076439</td>\n",
       "      <td>-0.412902</td>\n",
       "      <td>-1.162380</td>\n",
       "      <td>-0.342115</td>\n",
       "    </tr>\n",
       "    <tr>\n",
       "      <th>13868</th>\n",
       "      <td>0.928989</td>\n",
       "      <td>1.113127</td>\n",
       "      <td>-1.162380</td>\n",
       "      <td>-1.287704</td>\n",
       "    </tr>\n",
       "    <tr>\n",
       "      <th>3948</th>\n",
       "      <td>-1.076439</td>\n",
       "      <td>1.367466</td>\n",
       "      <td>-1.162380</td>\n",
       "      <td>-0.342115</td>\n",
       "    </tr>\n",
       "  </tbody>\n",
       "</table>\n",
       "</div>"
      ],
      "text/plain": [
       "         gender    region  highest_education  studied_credits\n",
       "2935   0.928989  1.113127           0.236378         1.549062\n",
       "7719   0.928989  1.621804           0.236378        -0.342115\n",
       "5405  -1.076439 -0.412902          -1.162380        -0.342115\n",
       "13868  0.928989  1.113127          -1.162380        -1.287704\n",
       "3948  -1.076439  1.367466          -1.162380        -0.342115"
      ]
     },
     "metadata": {},
     "output_type": "display_data"
    }
   ],
   "source": [
    "#Partición de datos externa\n",
    "\n",
    "X = x_students_2013B.copy()\n",
    "y = x_students_2013B['code_module']\n",
    "del X['code_module']\n",
    "#del X['code_presentation']\n",
    "#del X['age_band']\n",
    "del X['sum_click']\n",
    "\n",
    "X_training, X_test, y_training, y_test = train_test_split(X, y, test_size=0.2, random_state=42)\n",
    "valores_training, ocur_training = np.unique(y_training, return_counts=True)\n",
    "print('Training: ', 'clases:', valores_training, ' ocurrencias: ', ocur_training)\n",
    "valores_test, ocur_test = np.unique(y_test, return_counts=True)\n",
    "print('Test: ', 'clases:', valores_test, ' ocurrencias: ', ocur_test)\n",
    "display(X_training.head(5))"
   ]
  },
  {
   "cell_type": "code",
   "execution_count": 167,
   "id": "b3433b25-2b89-4ba0-8744-e9fafd652dd8",
   "metadata": {
    "tags": []
   },
   "outputs": [
    {
     "data": {
      "text/plain": [
       "(18446,)"
      ]
     },
     "execution_count": 167,
     "metadata": {},
     "output_type": "execute_result"
    }
   ],
   "source": [
    "from sklearn.cluster import KMeans\n",
    "from sklearn.datasets import load_digits\n",
    "import matplotlib.pyplot as plt\n",
    "\n",
    "# utilizamos k-means para hacer el clustering\n",
    "\n",
    "kmeans= KMeans(n_clusters=9, random_state=42, n_init='auto')\n",
    "clusters= kmeans.fit_predict(X_training)\n",
    "clusters.shape"
   ]
  },
  {
   "cell_type": "code",
   "execution_count": 168,
   "id": "7af0166e-04b2-47e0-a2e9-d03ef0ff06f2",
   "metadata": {
    "tags": []
   },
   "outputs": [
    {
     "name": "stdout",
     "output_type": "stream",
     "text": [
      "Completness score = 0.10229284593334531\n",
      "Homogeneidad = 0.11215835209476653\n",
      "Información mutua (ajustada) = 0.10642821333767001\n"
     ]
    }
   ],
   "source": [
    "from sklearn.metrics import cluster\n",
    "print('Completness score =', cluster.completeness_score(y_training, clusters))\n",
    "print('Homogeneidad =', cluster.homogeneity_score(y_training, clusters))\n",
    "print('Información mutua (ajustada) =', cluster.adjusted_mutual_info_score(y_training, clusters))"
   ]
  },
  {
   "cell_type": "code",
   "execution_count": 169,
   "id": "29c87108-b896-4eb9-9980-c6138b4fc71a",
   "metadata": {
    "tags": []
   },
   "outputs": [],
   "source": [
    "import numpy as np\n",
    "from scipy.stats import mode\n",
    "\n",
    "labels = np.zeros_like(clusters)\n",
    "for i in range(9):\n",
    "    mask = (clusters == i)\n",
    "    labels[mask] = mode(y_training[mask])[0]"
   ]
  },
  {
   "cell_type": "code",
   "execution_count": 170,
   "id": "745ceaf6-a634-4abb-8f7b-0c10f73ff299",
   "metadata": {
    "tags": []
   },
   "outputs": [
    {
     "data": {
      "text/plain": [
       "0.2844519136940258"
      ]
     },
     "execution_count": 170,
     "metadata": {},
     "output_type": "execute_result"
    }
   ],
   "source": [
    "from sklearn.metrics import accuracy_score\n",
    "accuracy_score(y_training, labels)"
   ]
  },
  {
   "cell_type": "code",
   "execution_count": 160,
   "id": "d70c020d-edf5-41b8-a078-553c42d1e679",
   "metadata": {
    "tags": []
   },
   "outputs": [
    {
     "name": "stdout",
     "output_type": "stream",
     "text": [
      "\n",
      "Classification Report:\n",
      "              precision    recall  f1-score   support\n",
      "\n",
      "           1       0.00      0.00      0.00      2661\n",
      "           2       0.40      0.22      0.29      2598\n",
      "           3       0.00      0.00      0.00      2651\n",
      "           4       0.00      0.00      0.00      2655\n",
      "           5       0.25      0.83      0.39      2655\n",
      "           6       0.29      0.20      0.24      2606\n",
      "           7       0.32      0.81      0.46      2620\n",
      "\n",
      "    accuracy                           0.29     18446\n",
      "   macro avg       0.18      0.29      0.20     18446\n",
      "weighted avg       0.18      0.29      0.20     18446\n",
      "\n"
     ]
    },
    {
     "name": "stderr",
     "output_type": "stream",
     "text": [
      "/Users/dvelasquez/Library/Python/3.9/lib/python/site-packages/sklearn/metrics/_classification.py:1344: UndefinedMetricWarning: Precision and F-score are ill-defined and being set to 0.0 in labels with no predicted samples. Use `zero_division` parameter to control this behavior.\n",
      "  _warn_prf(average, modifier, msg_start, len(result))\n",
      "/Users/dvelasquez/Library/Python/3.9/lib/python/site-packages/sklearn/metrics/_classification.py:1344: UndefinedMetricWarning: Precision and F-score are ill-defined and being set to 0.0 in labels with no predicted samples. Use `zero_division` parameter to control this behavior.\n",
      "  _warn_prf(average, modifier, msg_start, len(result))\n",
      "/Users/dvelasquez/Library/Python/3.9/lib/python/site-packages/sklearn/metrics/_classification.py:1344: UndefinedMetricWarning: Precision and F-score are ill-defined and being set to 0.0 in labels with no predicted samples. Use `zero_division` parameter to control this behavior.\n",
      "  _warn_prf(average, modifier, msg_start, len(result))\n"
     ]
    }
   ],
   "source": [
    "# Imprimir el reporte de clasificación\n",
    "print(\"\\nClassification Report:\")\n",
    "print(classification_report(y_training, labels))"
   ]
  },
  {
   "cell_type": "code",
   "execution_count": 161,
   "id": "a473aa7a-8b8d-4f74-9371-c263425082aa",
   "metadata": {
    "tags": []
   },
   "outputs": [
    {
     "data": {
      "image/png": "[encoded data removed]",
      "text/plain": [
       "<Figure size 640x480 with 1 Axes>"
      ]
     },
     "metadata": {},
     "output_type": "display_data"
    }
   ],
   "source": [
    "import seaborn as sns\n",
    "from sklearn.metrics import confusion_matrix\n",
    "mat = confusion_matrix(y_training, labels)\n",
    "sns.heatmap(mat.T, square=True, annot=True, fmt='d', cbar=False,\n",
    "            xticklabels=[1,2,3,4,5,6,7],\n",
    "            yticklabels=[1,2,3,4,5,6,7])\n",
    "plt.xlabel('true label')\n",
    "plt.ylabel('predicted label');"
   ]
  },
  {
   "cell_type": "code",
   "execution_count": 162,
   "id": "8c5dca9d-759f-4ead-a071-18d5190116f6",
   "metadata": {
    "tags": []
   },
   "outputs": [
    {
     "data": {
      "image/png": "[encoded data removed]",
      "text/plain": [
       "<Figure size 1000x800 with 1 Axes>"
      ]
     },
     "metadata": {},
     "output_type": "display_data"
    }
   ],
   "source": [
    "from matplotlib import pyplot as plt\n",
    "from scipy.cluster.hierarchy import dendrogram, linkage\n",
    "import numpy as np\n",
    "\n",
    "plt.figure(figsize=(10, 8))\n",
    "plt.title(\"Dendograma\")\n",
    "Z=linkage(X_training,method='ward')\n",
    "dendrogram=dendrogram(Z)"
   ]
  }
 ],
 "metadata": {
  "kernelspec": {
   "display_name": "Python 3 (ipykernel)",
   "language": "python",
   "name": "python3"
  },
  "language_info": {
   "codemirror_mode": {
    "name": "ipython",
    "version": 3
   },
   "file_extension": ".py",
   "mimetype": "text/x-python",
   "name": "python",
   "nbconvert_exporter": "python",
   "pygments_lexer": "ipython3",
   "version": "3.9.6"
  }
 },
 "nbformat": 4,
 "nbformat_minor": 5
}
